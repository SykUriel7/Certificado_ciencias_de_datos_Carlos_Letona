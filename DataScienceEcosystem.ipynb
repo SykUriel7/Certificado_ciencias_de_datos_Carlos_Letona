{
 "cells": [
  {
   "cell_type": "markdown",
   "id": "d5b4a941",
   "metadata": {},
   "source": [
    "# Proyecto 1 Certificado de Ciencias de Datos\n"
   ]
  },
  {
   "cell_type": "markdown",
   "id": "f60c416a",
   "metadata": {},
   "source": [
    "## Introducción\n",
    "\n",
    "La ciencia de datos es un campo interdisciplinario que utiliza métodos, procesos, algoritmos y sistemas científicos para extraer conocimiento y obtener información valiosa a partir de datos en diversas formas. Combina principios de estadística, matemáticas, informática y análisis de datos para interpretar y manejar grandes volúmenes de datos."
   ]
  },
  {
   "cell_type": "markdown",
   "id": "1f0b9972",
   "metadata": {},
   "source": [
    "### Enumerar los lenguajes de la ciencia de datos\n",
    "1. Python\n",
    "2. R\n",
    "3. C / C++"
   ]
  },
  {
   "cell_type": "markdown",
   "id": "c600c5fd",
   "metadata": {},
   "source": [
    "### Data Science Libraries\n",
    "\n",
    "En el ecosistema de la ciencia de datos, hay varias bibliotecas populares que se utilizan para diversas tareas, tales como análisis de datos, visualización y aprendizaje automático. A continuación se enumeran algunas de las bibliotecas más utilizadas:\n",
    "\n",
    "- **Pandas**: Utilizada para la manipulación y el análisis de datos. Proporciona estructuras de datos y funciones que facilitan el manejo de datos etiquetados y relacionales.\n",
    "- **NumPy**: Utilizada para realizar operaciones matemáticas y estadísticas sobre matrices multidimensionales.\n",
    "- **Matplotlib**: Utilizada para crear gráficos y visualizaciones estáticas, animadas e interactivas en Python.\n",
    "- **Seaborn**: Basada en Matplotlib, se utiliza para crear visualizaciones estadísticas atractivas y con estilo.\n",
    "- **Scikit-learn**: Utilizada para realizar tareas de aprendizaje automático. Incluye herramientas para clasificación, regresión, clustering y reducción de dimensionalidad.\n",
    "- **TensorFlow**: Una biblioteca de código abierto para el aprendizaje automático y las redes neuronales. Es utilizada para construir y entrenar modelos de aprendizaje profundo.\n",
    "- **Keras**: Una API de alto nivel para construir y entrenar modelos de aprendizaje profundo. Se ejecuta sobre TensorFlow y otras bibliotecas similares.\n",
    "- **SciPy**: Utilizada para realizar cálculos científicos y técnicos avanzados. Se basa en NumPy y proporciona funciones adicionales para álgebra lineal, optimización, integración y más.\n",
    "\n"
   ]
  },
  {
   "cell_type": "markdown",
   "id": "add49bb2",
   "metadata": {},
   "source": [
    "### Data Science Tools and Ecosystem\n",
    "\n",
    "En el siguiente cuadro se enumeran algunas herramientas comunes utilizadas en el ecosistema de la ciencia de datos:\n",
    "\n",
    "| Herramienta             | Descripción                                                                                                                                       |\n",
    "|-------------------------|---------------------------------------------------------------------------------------------------------------------------------------------------|\n",
    "| Jupyter Notebook        | Un entorno interactivo que permite la creación y el intercambio de documentos que contienen código en vivo, ecuaciones, visualizaciones y texto.   |\n",
    "| RStudio                 | Un entorno de desarrollo integrado (IDE) para R que proporciona herramientas útiles para la ciencia de datos y la visualización.                  |\n",
    "| Apache Hadoop           | Un marco de trabajo de software que facilita el procesamiento de grandes conjuntos de datos distribuidos en un entorno de computación distribuida. |\n",
    "| Apache Spark            | Un motor de análisis unificado para el procesamiento de datos a gran escala, con soporte para consultas SQL, streaming y aprendizaje automático.  |\n",
    "| TensorFlow              | Una biblioteca de código abierto para el aprendizaje automático y las redes neuronales.                                                            |\n",
    "| Tableau                 | Una herramienta de visualización de datos que permite crear gráficos interactivos y paneles de control a partir de diferentes fuentes de datos.   |\n",
    "| RapidMiner              | Una plataforma de ciencia de datos que proporciona un entorno visual para la preparación de datos, el aprendizaje automático y el despliegue de modelos. |\n",
    "\n"
   ]
  },
  {
   "cell_type": "markdown",
   "id": "20558d3f",
   "metadata": {},
   "source": [
    "### Ejemplos de Expresiones Aritméticas\n",
    "\n",
    "En esta sección se presentan algunos ejemplos de expresiones aritméticas comunes que se utilizan en programación y análisis de datos.\n",
    "\n",
    "Por ejemplo la suma:"
   ]
  },
  {
   "cell_type": "code",
   "execution_count": 3,
   "id": "e68c5b38",
   "metadata": {},
   "outputs": [
    {
     "data": {
      "text/plain": [
       "8"
      ]
     },
     "execution_count": 3,
     "metadata": {},
     "output_type": "execute_result"
    }
   ],
   "source": [
    "3+5\n"
   ]
  },
  {
   "cell_type": "markdown",
   "id": "9c3183df",
   "metadata": {},
   "source": [
    "O la multiplicación:"
   ]
  },
  {
   "cell_type": "code",
   "execution_count": 6,
   "id": "b0df111a",
   "metadata": {},
   "outputs": [
    {
     "data": {
      "text/plain": [
       "40"
      ]
     },
     "execution_count": 6,
     "metadata": {},
     "output_type": "execute_result"
    }
   ],
   "source": [
    "8*5"
   ]
  },
  {
   "cell_type": "markdown",
   "id": "ea5fc164",
   "metadata": {},
   "source": [
    "Convirtiendo minutos en horas:\n"
   ]
  },
  {
   "cell_type": "code",
   "execution_count": 8,
   "id": "5e829de3",
   "metadata": {},
   "outputs": [],
   "source": [
    "#Cuantos minutos hay en una hora\n",
    "hora = 60"
   ]
  },
  {
   "cell_type": "code",
   "execution_count": 9,
   "id": "a9fd212a",
   "metadata": {},
   "outputs": [
    {
     "data": {
      "text/plain": [
       "1.3666666666666667"
      ]
     },
     "execution_count": 9,
     "metadata": {},
     "output_type": "execute_result"
    }
   ],
   "source": [
    "#Minutos a convertir:\n",
    "minutos = 82\n",
    "\n",
    "#Entonces: \n",
    "\n",
    "minutos/hora"
   ]
  },
  {
   "cell_type": "markdown",
   "id": "e1a05f23",
   "metadata": {},
   "source": [
    "Lista de codigo para listar objetivos:"
   ]
  },
  {
   "cell_type": "code",
   "execution_count": 16,
   "id": "a31d2ebc",
   "metadata": {},
   "outputs": [
    {
     "name": "stdout",
     "output_type": "stream",
     "text": [
      "Objetivo 1: Entender los conceptos básicos de la ciencia de datos\n",
      "Objetivo 2: Familiarizarse con las herramientas comunes utilizadas en la ciencia de datos\n",
      "Objetivo 3: Aprender a realizar análisis de datos utilizando Python\n",
      "Objetivo 4: Desarrollar habilidades en la visualización de datos\n",
      "Objetivo 5: Aplicar técnicas de aprendizaje automático para resolver problemas del mundo real\n"
     ]
    }
   ],
   "source": [
    "# Lista de Objetivos\n",
    "objetivos = [\n",
    "    \"Entender los conceptos básicos de la ciencia de datos\",\n",
    "    \"Familiarizarse con las herramientas comunes utilizadas en la ciencia de datos\",\n",
    "    \"Aprender a realizar análisis de datos utilizando Python\",\n",
    "    \"Desarrollar habilidades en la visualización de datos\",\n",
    "    \"Aplicar técnicas de aprendizaje automático para resolver problemas del mundo real\"\n",
    "]\n",
    "i = 1\n",
    "# Para mostrar la lista de objetivos\n",
    "for objetivo in objetivos:\n",
    "    print(f\"Objetivo {i}: {objetivo}\")\n",
    "    i += 1\n"
   ]
  },
  {
   "cell_type": "markdown",
   "id": "5afb9d87",
   "metadata": {},
   "source": [
    "### Autor: Carlos Letona"
   ]
  },
  {
   "cell_type": "code",
   "execution_count": null,
   "id": "f672bfef",
   "metadata": {},
   "outputs": [],
   "source": []
  }
 ],
 "metadata": {
  "kernelspec": {
   "display_name": "Python 3 (ipykernel)",
   "language": "python",
   "name": "python3"
  },
  "language_info": {
   "codemirror_mode": {
    "name": "ipython",
    "version": 3
   },
   "file_extension": ".py",
   "mimetype": "text/x-python",
   "name": "python",
   "nbconvert_exporter": "python",
   "pygments_lexer": "ipython3",
   "version": "3.11.7"
  }
 },
 "nbformat": 4,
 "nbformat_minor": 5
}
